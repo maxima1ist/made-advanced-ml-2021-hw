{
 "cells": [
  {
   "cell_type": "code",
   "execution_count": 1,
   "metadata": {
    "id": "wLu1AhSgUiRo"
   },
   "outputs": [],
   "source": [
    "import pandas as pd\n",
    "import matplotlib.pyplot as plt\n",
    "import numpy as np\n",
    "import json\n",
    "from sklearn.preprocessing import OneHotEncoder\n",
    "from sklearn.linear_model import LogisticRegression\n",
    "from scipy.stats import spearmanr, kendalltau"
   ]
  },
  {
   "cell_type": "code",
   "execution_count": 2,
   "metadata": {
    "colab": {
     "base_uri": "https://localhost:8080/"
    },
    "id": "Atgjkf1xUiRr",
    "outputId": "c79585c3-80b9-4625-f558-bcf70d46e4ef"
   },
   "outputs": [
    {
     "name": "stderr",
     "output_type": "stream",
     "text": [
      "/home/maxima1ist/.local/lib/python3.8/site-packages/IPython/core/interactiveshell.py:3146: DtypeWarning: Columns (0) have mixed types.Specify dtype option on import or set low_memory=False.\n",
      "  has_raised = await self.run_ast_nodes(code_ast.body, cell_name,\n"
     ]
    }
   ],
   "source": [
    "x_train = pd.read_csv('data/x_train.csv')\n",
    "y_train = pd.read_csv('data/y_train.csv')"
   ]
  },
  {
   "cell_type": "code",
   "execution_count": 3,
   "metadata": {
    "id": "4znW2B-hUiRs"
   },
   "outputs": [],
   "source": [
    "y_train_arr = []\n",
    "\n",
    "for value in y_train['hit']:\n",
    "    if isinstance(value, str) and value.isdigit():\n",
    "        y_train_arr.append(int(value))\n",
    "    else:\n",
    "        y_train_arr.append(0)"
   ]
  },
  {
   "cell_type": "code",
   "execution_count": 4,
   "metadata": {
    "colab": {
     "base_uri": "https://localhost:8080/"
    },
    "id": "6F1NjVuQUiRt",
    "outputId": "13490eb3-eb6f-42b9-e5fd-e8a7eec8731a"
   },
   "outputs": [],
   "source": [
    "x_test = pd.read_csv('data/x_test.csv')\n",
    "y_test = pd.read_csv('data/y_test.csv')"
   ]
  },
  {
   "cell_type": "code",
   "execution_count": 5,
   "metadata": {
    "id": "XJEAcKLJUiRu"
   },
   "outputs": [],
   "source": [
    "y_test_arr = []\n",
    "\n",
    "for value in y_test['hit']:\n",
    "    if isinstance(value, str) and value.isdigit():\n",
    "        y_test_arr.append(int(value))\n",
    "    else:\n",
    "        y_test_arr.append(0)"
   ]
  },
  {
   "cell_type": "code",
   "execution_count": 6,
   "metadata": {
    "colab": {
     "base_uri": "https://localhost:8080/"
    },
    "id": "9nmm7CRD3fTz",
    "outputId": "1f5979fa-efa8-45f1-c2f6-330c8498a450"
   },
   "outputs": [
    {
     "data": {
      "text/plain": [
       "[array([    15,     16,     23, ..., 224482, 224539, 224542]),\n",
       " array([  1,   2,   3,   4,   5,   6,   7,   8,   9,  10,  11,  12,  13,\n",
       "         14,  15,  16,  17,  18,  19,  20,  21,  22,  23,  24,  25,  26,\n",
       "         27,  28,  29,  30,  31,  32,  33,  34,  35,  36,  37,  38,  39,\n",
       "         40,  41,  42,  43,  44,  45,  46,  47,  48,  49,  50,  51,  52,\n",
       "         53,  54,  55,  56,  57,  58,  59,  60,  61,  62,  63,  64,  65,\n",
       "         66,  67,  68,  69,  70,  71,  72,  73,  74,  75,  76,  77,  78,\n",
       "         79,  80,  81,  82,  83,  84,  85,  86,  87,  88,  89,  90,  91,\n",
       "         92,  93,  94,  95,  96,  97,  98,  99, 100, 101, 102, 103, 104,\n",
       "        105, 106, 107, 108, 109, 110, 111, 112, 113, 114, 115, 116, 117,\n",
       "        118, 119, 120, 121, 122, 123, 124, 125, 126, 127, 128, 129, 130,\n",
       "        131, 132, 133, 134, 135, 136, 137, 138, 139, 140, 141, 142, 143,\n",
       "        144, 145, 146, 147, 148, 149, 150, 151, 152, 153, 154, 155, 156,\n",
       "        157, 158, 159, 160, 161, 162, 163, 164, 165, 166, 167, 168, 169,\n",
       "        170, 171, 172, 173, 174, 175, 176, 177, 178, 179, 180, 181, 182,\n",
       "        183, 184, 185, 186, 187, 188, 189, 190, 191, 192, 193, 194, 195,\n",
       "        196, 197, 198, 199, 200, 201, 202, 203, 204, 205, 206, 207, 208,\n",
       "        209, 210, 211, 212, 213, 214, 215, 216, 217, 218, 219, 220, 221,\n",
       "        222, 223, 224, 225, 226, 227, 228, 229, 230, 231, 232, 233, 234,\n",
       "        235, 236, 237, 238, 239, 240, 241, 242, 243, 244, 245, 246, 247,\n",
       "        248, 249, 250, 251, 252, 253, 254, 255, 256, 257, 258, 259, 260,\n",
       "        261, 262, 263, 264, 265, 266, 267, 268, 269, 270, 271, 272, 273,\n",
       "        274, 275, 276, 277, 278, 279, 280, 281, 282, 283, 284, 285, 286,\n",
       "        287, 288, 289, 290, 291, 292, 293, 294, 295, 296, 297, 298, 299,\n",
       "        300, 301, 302, 303, 304, 305, 306, 307, 308, 309, 310, 311, 312,\n",
       "        313, 314, 315, 316, 317, 318, 319, 320, 321, 322, 323, 324, 325,\n",
       "        326, 327, 328, 329, 330, 331, 332, 333, 334, 335, 336, 337, 338,\n",
       "        339, 340, 341, 342, 343, 344, 345, 346, 347, 348, 349, 350, 351,\n",
       "        352, 353, 354, 355, 356, 357, 358, 359, 360, 361, 362, 363, 364,\n",
       "        365, 366, 367, 368, 369, 370, 371, 372, 373, 374, 375, 376, 377,\n",
       "        378, 379, 380, 381, 382, 383, 384, 385, 386, 387, 388, 389, 390,\n",
       "        391, 392, 393, 394, 395, 396, 397, 398, 399, 400, 401, 402, 403,\n",
       "        404, 405, 406, 407, 408, 409, 410, 411, 412, 413, 414, 415, 416,\n",
       "        417, 418, 419, 420, 421, 422, 423, 424, 425, 426, 427, 428, 429,\n",
       "        430, 431, 432, 433, 434, 435, 436, 437, 438, 439, 440, 441, 442,\n",
       "        443, 444, 445, 446, 447, 448, 449, 450, 451, 452, 453, 454, 455,\n",
       "        456, 457, 458, 459, 460, 461, 462, 463, 464, 465, 466, 467, 468,\n",
       "        469, 470, 471, 472, 473, 474, 475, 476, 477, 478, 479, 480, 481,\n",
       "        482, 483, 484, 485, 486, 487, 488, 489, 490, 491, 492, 493, 494,\n",
       "        495, 496, 497, 498, 499, 500])]"
      ]
     },
     "execution_count": 6,
     "metadata": {},
     "output_type": "execute_result"
    }
   ],
   "source": [
    "enc = OneHotEncoder(handle_unknown='ignore')\n",
    "enc.fit(x_train)\n",
    "enc.categories_"
   ]
  },
  {
   "cell_type": "code",
   "execution_count": null,
   "metadata": {
    "colab": {
     "base_uri": "https://localhost:8080/"
    },
    "id": "c4Xj9Nq8UiRw",
    "outputId": "a4c4d09e-e495-4b0d-a38c-e8f1a24e6ae9"
   },
   "outputs": [],
   "source": [
    "model = LogisticRegression(solver='liblinear', C=10, n_jobs=-1)\n",
    "model.fit(enc.transform(x_train), y_train_arr)"
   ]
  },
  {
   "cell_type": "code",
   "execution_count": null,
   "metadata": {
    "id": "Q5sQME6m0lQV"
   },
   "outputs": [],
   "source": [
    "y_test_predict_proba = [probas[0] for probas in model.predict_proba(enc.transform(x_test))]"
   ]
  },
  {
   "cell_type": "code",
   "execution_count": null,
   "metadata": {
    "colab": {
     "base_uri": "https://localhost:8080/"
    },
    "id": "YSdNwVd1-bKp",
    "outputId": "3aedb7d4-0e9a-4ba9-c170-3dc171667843"
   },
   "outputs": [],
   "source": [
    "model.predict_proba(enc.transform(x_test))"
   ]
  },
  {
   "cell_type": "code",
   "execution_count": null,
   "metadata": {
    "id": "xI8PMTUoUiRx"
   },
   "outputs": [],
   "source": [
    "y_test_predict = model.predict(enc.transform(x_test))"
   ]
  },
  {
   "cell_type": "code",
   "execution_count": null,
   "metadata": {
    "id": "95tKtT7mo3b1"
   },
   "outputs": [],
   "source": [
    "valid_train_results = {}\n",
    "with open('data/valid_train_results.json') as fout:\n",
    "    valid_train_results = json.load(fout)"
   ]
  },
  {
   "cell_type": "code",
   "execution_count": null,
   "metadata": {
    "id": "DiD_ahHrUiRx"
   },
   "outputs": [],
   "source": [
    "valid_test_results = {}\n",
    "with open('data/valid_test_results.json') as fout:\n",
    "    valid_test_results = json.load(fout)"
   ]
  },
  {
   "cell_type": "code",
   "execution_count": null,
   "metadata": {
    "id": "C2Agin2JUiRy"
   },
   "outputs": [],
   "source": [
    "list_of_real_tournament_range = []\n",
    "list_of_predicted_tournament_range = []\n",
    "\n",
    "curr_i = 0\n",
    "for tournament_id in valid_test_results:\n",
    "  tournament = valid_test_results[tournament_id]\n",
    "\n",
    "  real_tournament_range = []\n",
    "  predicted_tournament_range = []\n",
    "  for team in tournament:\n",
    "    real_mask = team['mask']\n",
    "    real_count = 0\n",
    "    for i in range(len(real_mask)):\n",
    "      if isinstance(real_mask[i], str) and real_mask[i].isdigit():\n",
    "        real_count += int(real_mask[i])\n",
    "\n",
    "    predict_proba = [1 for _ in range(len(real_mask))]\n",
    "    for teammate in team['teamMembers']:\n",
    "        for question_id in range(len(real_mask)):\n",
    "            predict_proba[question_id] *= y_test_predict_proba[curr_i]\n",
    "            curr_i += 1\n",
    "    predict_proba = [(1 - p) for p in predict_proba]\n",
    "\n",
    "    real_tournament_range.append((team['team']['id'], real_count / len(real_mask)))\n",
    "    predicted_tournament_range.append((team['team']['id'], np.prod(predict_proba)))\n",
    "    \n",
    "  list_of_real_tournament_range.append(real_tournament_range)\n",
    "  list_of_predicted_tournament_range.append(predicted_tournament_range)"
   ]
  },
  {
   "cell_type": "code",
   "execution_count": null,
   "metadata": {
    "id": "EXt04m-0sipu"
   },
   "outputs": [],
   "source": [
    "spearmanr_coefs = []\n",
    "kendalltau_coefs = []\n",
    "\n",
    "for i in range(len(list_of_real_tournament_range)):\n",
    "  predict_tournament_rating = list_of_predicted_tournament_range[i]\n",
    "  predict_tournament_rating.sort(key=lambda x:x[1])\n",
    "  predict_tournament_rating = [pair[0] for pair in predict_tournament_rating]\n",
    "  \n",
    "  real_tournament_rating = list_of_real_tournament_range[i]\n",
    "  real_tournament_rating = [pair[0] for pair in real_tournament_rating]\n",
    "  coef, p = spearmanr(real_tournament_rating, predict_tournament_rating)\n",
    "  if coef is not np.nan:\n",
    "    spearmanr_coefs.append(abs(coef))\n",
    "  coef, p = kendalltau(real_tournament_rating, predict_tournament_rating)\n",
    "  if coef is not np.nan:\n",
    "    kendalltau_coefs.append(abs(coef))"
   ]
  },
  {
   "cell_type": "code",
   "execution_count": null,
   "metadata": {
    "id": "wZ4y0-XE85f9"
   },
   "outputs": [],
   "source": []
  }
 ],
 "metadata": {
  "colab": {
   "collapsed_sections": [],
   "name": "baseline_modle.ipynb",
   "provenance": []
  },
  "kernelspec": {
   "display_name": "Python 3",
   "language": "python",
   "name": "python3"
  },
  "language_info": {
   "codemirror_mode": {
    "name": "ipython",
    "version": 3
   },
   "file_extension": ".py",
   "mimetype": "text/x-python",
   "name": "python",
   "nbconvert_exporter": "python",
   "pygments_lexer": "ipython3",
   "version": "3.8.5"
  }
 },
 "nbformat": 4,
 "nbformat_minor": 1
}
